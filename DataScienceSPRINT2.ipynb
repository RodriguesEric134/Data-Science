{
  "nbformat": 4,
  "nbformat_minor": 0,
  "metadata": {
    "colab": {
      "provenance": []
    },
    "kernelspec": {
      "name": "python3",
      "display_name": "Python 3"
    },
    "language_info": {
      "name": "python"
    }
  },
  "cells": [
    {
      "cell_type": "code",
      "execution_count": null,
      "metadata": {
        "id": "9qJgCqOOcWlu"
      },
      "outputs": [],
      "source": [
        "import pandas as pd\n",
        "import matplotlib.pyplot as plt\n",
        "import seaborn as sns\n",
        "\n",
        "# Configurar visualizações do seaborn\n",
        "sns.set(style=\"whitegrid\")\n"
      ]
    },
    {
      "cell_type": "code",
      "source": [
        "import pandas as pd\n",
        "\n",
        "# Função para carregar dados e adicionar coluna de ano\n",
        "def load_data(files):\n",
        "    dfs = []\n",
        "    for file, year in files.items():\n",
        "        df_temp = pd.read_csv(file)\n",
        "        df_temp['ano'] = year\n",
        "        dfs.append(df_temp)\n",
        "    return pd.concat(dfs, ignore_index=True)\n",
        "\n",
        "# Dicionário com os arquivos e seus respectivos anos\n",
        "files = {\n",
        "    'obitos-2019.csv': 2019,\n",
        "    'obitos-2020.csv': 2020,\n",
        "    'obitos-2021.csv': 2021,\n",
        "    'obitos-2022.csv': 2022,\n",
        "    'obitos-2023.csv': 2023,\n",
        "    'obitos-2024.csv': 2024\n",
        "}\n",
        "\n",
        "# Carregar dados\n",
        "lista = load_data(files)\n",
        "\n",
        "# Verificar as primeiras linhas do DataFrame e a distribuição de anos\n",
        "print(df.head())\n",
        "print(df['ano'].value_counts())\n"
      ],
      "metadata": {
        "id": "vji7y9_8efd_",
        "colab": {
          "base_uri": "https://localhost:8080/",
          "height": 193
        },
        "outputId": "1b34d707-e592-4f2c-c734-a6b048a4b260"
      },
      "execution_count": null,
      "outputs": [
        {
          "output_type": "error",
          "ename": "NameError",
          "evalue": "name 'df' is not defined",
          "traceback": [
            "\u001b[0;31m---------------------------------------------------------------------------\u001b[0m",
            "\u001b[0;31mNameError\u001b[0m                                 Traceback (most recent call last)",
            "\u001b[0;32m<ipython-input-6-a424246b8257>\u001b[0m in \u001b[0;36m<cell line: 26>\u001b[0;34m()\u001b[0m\n\u001b[1;32m     24\u001b[0m \u001b[0;34m\u001b[0m\u001b[0m\n\u001b[1;32m     25\u001b[0m \u001b[0;31m# Verificar as primeiras linhas do DataFrame e a distribuição de anos\u001b[0m\u001b[0;34m\u001b[0m\u001b[0;34m\u001b[0m\u001b[0m\n\u001b[0;32m---> 26\u001b[0;31m \u001b[0mprint\u001b[0m\u001b[0;34m(\u001b[0m\u001b[0mdf\u001b[0m\u001b[0;34m.\u001b[0m\u001b[0mhead\u001b[0m\u001b[0;34m(\u001b[0m\u001b[0;34m)\u001b[0m\u001b[0;34m)\u001b[0m\u001b[0;34m\u001b[0m\u001b[0;34m\u001b[0m\u001b[0m\n\u001b[0m\u001b[1;32m     27\u001b[0m \u001b[0mprint\u001b[0m\u001b[0;34m(\u001b[0m\u001b[0mdf\u001b[0m\u001b[0;34m[\u001b[0m\u001b[0;34m'ano'\u001b[0m\u001b[0;34m]\u001b[0m\u001b[0;34m.\u001b[0m\u001b[0mvalue_counts\u001b[0m\u001b[0;34m(\u001b[0m\u001b[0;34m)\u001b[0m\u001b[0;34m)\u001b[0m\u001b[0;34m\u001b[0m\u001b[0;34m\u001b[0m\u001b[0m\n",
            "\u001b[0;31mNameError\u001b[0m: name 'df' is not defined"
          ]
        }
      ]
    },
    {
      "cell_type": "code",
      "source": [
        "df"
      ],
      "metadata": {
        "id": "sTTnPUZRpzqd"
      },
      "execution_count": null,
      "outputs": []
    },
    {
      "cell_type": "code",
      "source": [
        "# Verificar a contagem de registros por ano\n",
        "print(df['ano'].value_counts())\n"
      ],
      "metadata": {
        "id": "qK1li-sHonW2"
      },
      "execution_count": null,
      "outputs": []
    },
    {
      "cell_type": "code",
      "source": [
        "import matplotlib.pyplot as plt\n",
        "\n",
        "# Agrupar os dados por ano e somar os óbitos\n",
        "df_grouped = df.groupby('ano')['total'].sum()\n",
        "\n",
        "# Plotar o gráfico\n",
        "plt.figure(figsize=(10, 6))\n",
        "plt.plot(df_grouped.index, df_grouped.values, marker='o')\n",
        "plt.xlabel('Ano')\n",
        "plt.ylabel('Número de Óbitos')\n",
        "plt.title('Número de Óbitos por Ano')\n",
        "plt.grid(True)\n",
        "plt.show()\n"
      ],
      "metadata": {
        "id": "J0wdiDhBoqAW"
      },
      "execution_count": null,
      "outputs": []
    },
    {
      "cell_type": "code",
      "source": [
        "print(df.describe())"
      ],
      "metadata": {
        "id": "cV_XTmBken4V"
      },
      "execution_count": null,
      "outputs": []
    },
    {
      "cell_type": "code",
      "source": [
        "# Média, mediana, desvio padrão e variância do total\n",
        "print(\"Média:\", df['total'].mean())\n",
        "print(\"Mediana:\", df['total'].median())\n",
        "print(\"Desvio Padrão:\", df['total'].std())\n",
        "print(\"Variância:\", df['total'].var())\n"
      ],
      "metadata": {
        "id": "9YkrRW62oOHL"
      },
      "execution_count": null,
      "outputs": []
    },
    {
      "cell_type": "code",
      "source": [
        "# Frequências de categorias\n",
        "print(\"\\n\", df['uf'].value_counts())\n",
        "print(\"\\n\", df['tipo_doenca'].value_counts())\n",
        "print(\"\\n\", df['local_obito'].value_counts())\n",
        "print(\"\\n\", df['faixa_etaria'].value_counts())\n",
        "print(\"\\n\", df['sexo'].value_counts())\n"
      ],
      "metadata": {
        "id": "SnTH_o6BrLcr"
      },
      "execution_count": null,
      "outputs": []
    },
    {
      "cell_type": "code",
      "source": [
        "# Gráfico de barras para tipo de doença\n",
        "df['tipo_doenca'].value_counts().plot(kind='bar')\n",
        "plt.title('Distribuição por Tipo de Doença')\n",
        "plt.xlabel('Tipo de Doença')\n",
        "plt.ylabel('Contagem')\n",
        "plt.xticks(rotation=90)\n",
        "plt.show()\n",
        "\n",
        "# Gráfico de barras para local de óbito\n",
        "df['local_obito'].value_counts().plot(kind='bar')\n",
        "plt.title('Distribuição por Local de Óbito')\n",
        "plt.xlabel('Local de Óbito')\n",
        "plt.ylabel('Contagem')\n",
        "plt.xticks(rotation=90)\n",
        "plt.show()\n"
      ],
      "metadata": {
        "id": "3zvdUiQ7Lmeh"
      },
      "execution_count": null,
      "outputs": []
    },
    {
      "cell_type": "code",
      "source": [
        "# Histograma do total de óbitos\n",
        "df['total'].plot(kind='hist', bins=20)\n",
        "plt.title('Distribuição do Total de Óbitos')\n",
        "plt.xlabel('Total de Óbitos')\n",
        "plt.ylabel('Frequência')\n",
        "plt.show()\n"
      ],
      "metadata": {
        "id": "ASQaW_JdLovk"
      },
      "execution_count": null,
      "outputs": []
    },
    {
      "cell_type": "code",
      "source": [
        "# Gráfico de pizza para tipo de doença\n",
        "df['tipo_doenca'].value_counts().plot(kind='pie', autopct='%1.1f%%')\n",
        "plt.title('Proporção por Tipo de Doença')\n",
        "plt.ylabel('')\n",
        "plt.show()\n"
      ],
      "metadata": {
        "id": "IBkNPhPLLtqR"
      },
      "execution_count": null,
      "outputs": []
    },
    {
      "cell_type": "code",
      "source": [
        "# Boxplot para distribuição do total por faixa etária\n",
        "df.boxplot(column='total', by='faixa_etaria')\n",
        "plt.title('Distribuição do Total de Óbitos por Faixa Etária')\n",
        "plt.suptitle('')\n",
        "plt.xlabel('Faixa Etária')\n",
        "plt.ylabel('Total de Óbitos')\n",
        "plt.xticks(rotation=90)\n",
        "plt.show()\n"
      ],
      "metadata": {
        "id": "xHdFvzdCLw6v"
      },
      "execution_count": null,
      "outputs": []
    },
    {
      "cell_type": "code",
      "source": [
        "# Gráfico de barras para sexo\n",
        "df['sexo'].value_counts().plot(kind='bar')\n",
        "plt.title('sexo')\n",
        "plt.xlabel('Local de Óbito')\n",
        "plt.ylabel('Contagem')\n",
        "plt.xticks(rotation=90)\n",
        "plt.show()"
      ],
      "metadata": {
        "id": "FFOVpq9oHEsI"
      },
      "execution_count": null,
      "outputs": []
    },
    {
      "cell_type": "code",
      "source": [
        "# Agrupar por ano e somar os óbitos\n",
        "annual_deaths = df.groupby('ano')['total'].sum()\n",
        "\n",
        "# Criar gráfico de linhas\n",
        "annual_deaths.plot(kind='line', marker='o')\n",
        "plt.title('Total de Óbitos ao Longo dos Anos')\n",
        "plt.xlabel('Ano')\n",
        "plt.ylabel('Total de Óbitos')\n",
        "plt.grid(True)\n",
        "plt.show()\n"
      ],
      "metadata": {
        "id": "XqpzE3TvMPMz"
      },
      "execution_count": null,
      "outputs": []
    },
    {
      "cell_type": "code",
      "source": [
        "from scipy.stats import ttest_ind\n",
        "\n",
        "hospital = df[df['local_obito'] == 'HOSPITAL']['total']\n",
        "domicilio = df[df['local_obito'] == 'DOMICILIO']['total']\n",
        "\n",
        "t_stat, p_val = ttest_ind(hospital, domicilio)\n",
        "print(\"Teste t: t-statistic = {:.2f}, p-value = {:.2e}\".format(t_stat, p_val))\n"
      ],
      "metadata": {
        "id": "FmaQSVyrL6Wz"
      },
      "execution_count": null,
      "outputs": []
    },
    {
      "cell_type": "code",
      "source": [
        "from scipy.stats import chi2_contingency\n",
        "\n",
        "contingency_table = pd.crosstab(df['sexo'], df['tipo_doenca'])\n",
        "chi2, p, dof, expected = chi2_contingency(contingency_table)\n",
        "print(\"Teste qui-quadrado: chi2 = {:.2f}, p-value = {:.2e}\".format(chi2, p))\n"
      ],
      "metadata": {
        "id": "Y4ey61zPL81l"
      },
      "execution_count": null,
      "outputs": []
    }
  ]
}