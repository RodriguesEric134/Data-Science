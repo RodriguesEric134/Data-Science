{
  "cells": [
    {
      "cell_type": "code",
      "execution_count": null,
      "id": "c814eb02-f5d1-468a-b966-5bbe5a0ed541",
      "metadata": {
        "id": "c814eb02-f5d1-468a-b966-5bbe5a0ed541"
      },
      "outputs": [],
      "source": [
        "import pandas as pd\n",
        "import matplotlib.pyplot as plt"
      ]
    },
    {
      "cell_type": "code",
      "execution_count": null,
      "id": "497d4a7a-0247-4b72-9e3c-be0b51817cd9",
      "metadata": {
        "id": "497d4a7a-0247-4b72-9e3c-be0b51817cd9"
      },
      "outputs": [],
      "source": [
        "base = pd.read_csv('Airlines.csv')"
      ]
    },
    {
      "cell_type": "code",
      "execution_count": null,
      "id": "12d64208-ffea-4e72-a714-e17aff6a6fb1",
      "metadata": {
        "colab": {
          "base_uri": "https://localhost:8080/",
          "height": 424
        },
        "id": "12d64208-ffea-4e72-a714-e17aff6a6fb1",
        "outputId": "3c1ec83a-9626-44e0-da5e-3672e2a9412a"
      },
      "outputs": [
        {
          "output_type": "execute_result",
          "data": {
            "text/plain": [
              "            id Airline  Flight AirportFrom AirportTo  DayOfWeek  Time  Length  \\\n",
              "0            1      CO     269         SFO       IAH          3    15     205   \n",
              "1            2      US    1558         PHX       CLT          3    15     222   \n",
              "2            3      AA    2400         LAX       DFW          3    20     165   \n",
              "3            4      AA    2466         SFO       DFW          3    20     195   \n",
              "4            5      AS     108         ANC       SEA          3    30     202   \n",
              "...        ...     ...     ...         ...       ...        ...   ...     ...   \n",
              "539378  539379      CO     178         OGG       SNA          5  1439     326   \n",
              "539379  539380      FL     398         SEA       ATL          5  1439     305   \n",
              "539380  539381      FL     609         SFO       MKE          5  1439     255   \n",
              "539381  539382      UA      78         HNL       SFO          5  1439     313   \n",
              "539382  539383      US    1442         LAX       PHL          5  1439     301   \n",
              "\n",
              "        Delay  \n",
              "0           1  \n",
              "1           1  \n",
              "2           1  \n",
              "3           1  \n",
              "4           0  \n",
              "...       ...  \n",
              "539378      0  \n",
              "539379      0  \n",
              "539380      0  \n",
              "539381      1  \n",
              "539382      1  \n",
              "\n",
              "[539383 rows x 9 columns]"
            ],
            "text/html": [
              "\n",
              "  <div id=\"df-d02c5aa0-d040-4e40-96bf-45edd9f21cca\" class=\"colab-df-container\">\n",
              "    <div>\n",
              "<style scoped>\n",
              "    .dataframe tbody tr th:only-of-type {\n",
              "        vertical-align: middle;\n",
              "    }\n",
              "\n",
              "    .dataframe tbody tr th {\n",
              "        vertical-align: top;\n",
              "    }\n",
              "\n",
              "    .dataframe thead th {\n",
              "        text-align: right;\n",
              "    }\n",
              "</style>\n",
              "<table border=\"1\" class=\"dataframe\">\n",
              "  <thead>\n",
              "    <tr style=\"text-align: right;\">\n",
              "      <th></th>\n",
              "      <th>id</th>\n",
              "      <th>Airline</th>\n",
              "      <th>Flight</th>\n",
              "      <th>AirportFrom</th>\n",
              "      <th>AirportTo</th>\n",
              "      <th>DayOfWeek</th>\n",
              "      <th>Time</th>\n",
              "      <th>Length</th>\n",
              "      <th>Delay</th>\n",
              "    </tr>\n",
              "  </thead>\n",
              "  <tbody>\n",
              "    <tr>\n",
              "      <th>0</th>\n",
              "      <td>1</td>\n",
              "      <td>CO</td>\n",
              "      <td>269</td>\n",
              "      <td>SFO</td>\n",
              "      <td>IAH</td>\n",
              "      <td>3</td>\n",
              "      <td>15</td>\n",
              "      <td>205</td>\n",
              "      <td>1</td>\n",
              "    </tr>\n",
              "    <tr>\n",
              "      <th>1</th>\n",
              "      <td>2</td>\n",
              "      <td>US</td>\n",
              "      <td>1558</td>\n",
              "      <td>PHX</td>\n",
              "      <td>CLT</td>\n",
              "      <td>3</td>\n",
              "      <td>15</td>\n",
              "      <td>222</td>\n",
              "      <td>1</td>\n",
              "    </tr>\n",
              "    <tr>\n",
              "      <th>2</th>\n",
              "      <td>3</td>\n",
              "      <td>AA</td>\n",
              "      <td>2400</td>\n",
              "      <td>LAX</td>\n",
              "      <td>DFW</td>\n",
              "      <td>3</td>\n",
              "      <td>20</td>\n",
              "      <td>165</td>\n",
              "      <td>1</td>\n",
              "    </tr>\n",
              "    <tr>\n",
              "      <th>3</th>\n",
              "      <td>4</td>\n",
              "      <td>AA</td>\n",
              "      <td>2466</td>\n",
              "      <td>SFO</td>\n",
              "      <td>DFW</td>\n",
              "      <td>3</td>\n",
              "      <td>20</td>\n",
              "      <td>195</td>\n",
              "      <td>1</td>\n",
              "    </tr>\n",
              "    <tr>\n",
              "      <th>4</th>\n",
              "      <td>5</td>\n",
              "      <td>AS</td>\n",
              "      <td>108</td>\n",
              "      <td>ANC</td>\n",
              "      <td>SEA</td>\n",
              "      <td>3</td>\n",
              "      <td>30</td>\n",
              "      <td>202</td>\n",
              "      <td>0</td>\n",
              "    </tr>\n",
              "    <tr>\n",
              "      <th>...</th>\n",
              "      <td>...</td>\n",
              "      <td>...</td>\n",
              "      <td>...</td>\n",
              "      <td>...</td>\n",
              "      <td>...</td>\n",
              "      <td>...</td>\n",
              "      <td>...</td>\n",
              "      <td>...</td>\n",
              "      <td>...</td>\n",
              "    </tr>\n",
              "    <tr>\n",
              "      <th>539378</th>\n",
              "      <td>539379</td>\n",
              "      <td>CO</td>\n",
              "      <td>178</td>\n",
              "      <td>OGG</td>\n",
              "      <td>SNA</td>\n",
              "      <td>5</td>\n",
              "      <td>1439</td>\n",
              "      <td>326</td>\n",
              "      <td>0</td>\n",
              "    </tr>\n",
              "    <tr>\n",
              "      <th>539379</th>\n",
              "      <td>539380</td>\n",
              "      <td>FL</td>\n",
              "      <td>398</td>\n",
              "      <td>SEA</td>\n",
              "      <td>ATL</td>\n",
              "      <td>5</td>\n",
              "      <td>1439</td>\n",
              "      <td>305</td>\n",
              "      <td>0</td>\n",
              "    </tr>\n",
              "    <tr>\n",
              "      <th>539380</th>\n",
              "      <td>539381</td>\n",
              "      <td>FL</td>\n",
              "      <td>609</td>\n",
              "      <td>SFO</td>\n",
              "      <td>MKE</td>\n",
              "      <td>5</td>\n",
              "      <td>1439</td>\n",
              "      <td>255</td>\n",
              "      <td>0</td>\n",
              "    </tr>\n",
              "    <tr>\n",
              "      <th>539381</th>\n",
              "      <td>539382</td>\n",
              "      <td>UA</td>\n",
              "      <td>78</td>\n",
              "      <td>HNL</td>\n",
              "      <td>SFO</td>\n",
              "      <td>5</td>\n",
              "      <td>1439</td>\n",
              "      <td>313</td>\n",
              "      <td>1</td>\n",
              "    </tr>\n",
              "    <tr>\n",
              "      <th>539382</th>\n",
              "      <td>539383</td>\n",
              "      <td>US</td>\n",
              "      <td>1442</td>\n",
              "      <td>LAX</td>\n",
              "      <td>PHL</td>\n",
              "      <td>5</td>\n",
              "      <td>1439</td>\n",
              "      <td>301</td>\n",
              "      <td>1</td>\n",
              "    </tr>\n",
              "  </tbody>\n",
              "</table>\n",
              "<p>539383 rows × 9 columns</p>\n",
              "</div>\n",
              "    <div class=\"colab-df-buttons\">\n",
              "\n",
              "  <div class=\"colab-df-container\">\n",
              "    <button class=\"colab-df-convert\" onclick=\"convertToInteractive('df-d02c5aa0-d040-4e40-96bf-45edd9f21cca')\"\n",
              "            title=\"Convert this dataframe to an interactive table.\"\n",
              "            style=\"display:none;\">\n",
              "\n",
              "  <svg xmlns=\"http://www.w3.org/2000/svg\" height=\"24px\" viewBox=\"0 -960 960 960\">\n",
              "    <path d=\"M120-120v-720h720v720H120Zm60-500h600v-160H180v160Zm220 220h160v-160H400v160Zm0 220h160v-160H400v160ZM180-400h160v-160H180v160Zm440 0h160v-160H620v160ZM180-180h160v-160H180v160Zm440 0h160v-160H620v160Z\"/>\n",
              "  </svg>\n",
              "    </button>\n",
              "\n",
              "  <style>\n",
              "    .colab-df-container {\n",
              "      display:flex;\n",
              "      gap: 12px;\n",
              "    }\n",
              "\n",
              "    .colab-df-convert {\n",
              "      background-color: #E8F0FE;\n",
              "      border: none;\n",
              "      border-radius: 50%;\n",
              "      cursor: pointer;\n",
              "      display: none;\n",
              "      fill: #1967D2;\n",
              "      height: 32px;\n",
              "      padding: 0 0 0 0;\n",
              "      width: 32px;\n",
              "    }\n",
              "\n",
              "    .colab-df-convert:hover {\n",
              "      background-color: #E2EBFA;\n",
              "      box-shadow: 0px 1px 2px rgba(60, 64, 67, 0.3), 0px 1px 3px 1px rgba(60, 64, 67, 0.15);\n",
              "      fill: #174EA6;\n",
              "    }\n",
              "\n",
              "    .colab-df-buttons div {\n",
              "      margin-bottom: 4px;\n",
              "    }\n",
              "\n",
              "    [theme=dark] .colab-df-convert {\n",
              "      background-color: #3B4455;\n",
              "      fill: #D2E3FC;\n",
              "    }\n",
              "\n",
              "    [theme=dark] .colab-df-convert:hover {\n",
              "      background-color: #434B5C;\n",
              "      box-shadow: 0px 1px 3px 1px rgba(0, 0, 0, 0.15);\n",
              "      filter: drop-shadow(0px 1px 2px rgba(0, 0, 0, 0.3));\n",
              "      fill: #FFFFFF;\n",
              "    }\n",
              "  </style>\n",
              "\n",
              "    <script>\n",
              "      const buttonEl =\n",
              "        document.querySelector('#df-d02c5aa0-d040-4e40-96bf-45edd9f21cca button.colab-df-convert');\n",
              "      buttonEl.style.display =\n",
              "        google.colab.kernel.accessAllowed ? 'block' : 'none';\n",
              "\n",
              "      async function convertToInteractive(key) {\n",
              "        const element = document.querySelector('#df-d02c5aa0-d040-4e40-96bf-45edd9f21cca');\n",
              "        const dataTable =\n",
              "          await google.colab.kernel.invokeFunction('convertToInteractive',\n",
              "                                                    [key], {});\n",
              "        if (!dataTable) return;\n",
              "\n",
              "        const docLinkHtml = 'Like what you see? Visit the ' +\n",
              "          '<a target=\"_blank\" href=https://colab.research.google.com/notebooks/data_table.ipynb>data table notebook</a>'\n",
              "          + ' to learn more about interactive tables.';\n",
              "        element.innerHTML = '';\n",
              "        dataTable['output_type'] = 'display_data';\n",
              "        await google.colab.output.renderOutput(dataTable, element);\n",
              "        const docLink = document.createElement('div');\n",
              "        docLink.innerHTML = docLinkHtml;\n",
              "        element.appendChild(docLink);\n",
              "      }\n",
              "    </script>\n",
              "  </div>\n",
              "\n",
              "\n",
              "<div id=\"df-65d66f1c-52cc-4b10-acfd-946df35fe36e\">\n",
              "  <button class=\"colab-df-quickchart\" onclick=\"quickchart('df-65d66f1c-52cc-4b10-acfd-946df35fe36e')\"\n",
              "            title=\"Suggest charts\"\n",
              "            style=\"display:none;\">\n",
              "\n",
              "<svg xmlns=\"http://www.w3.org/2000/svg\" height=\"24px\"viewBox=\"0 0 24 24\"\n",
              "     width=\"24px\">\n",
              "    <g>\n",
              "        <path d=\"M19 3H5c-1.1 0-2 .9-2 2v14c0 1.1.9 2 2 2h14c1.1 0 2-.9 2-2V5c0-1.1-.9-2-2-2zM9 17H7v-7h2v7zm4 0h-2V7h2v10zm4 0h-2v-4h2v4z\"/>\n",
              "    </g>\n",
              "</svg>\n",
              "  </button>\n",
              "\n",
              "<style>\n",
              "  .colab-df-quickchart {\n",
              "      --bg-color: #E8F0FE;\n",
              "      --fill-color: #1967D2;\n",
              "      --hover-bg-color: #E2EBFA;\n",
              "      --hover-fill-color: #174EA6;\n",
              "      --disabled-fill-color: #AAA;\n",
              "      --disabled-bg-color: #DDD;\n",
              "  }\n",
              "\n",
              "  [theme=dark] .colab-df-quickchart {\n",
              "      --bg-color: #3B4455;\n",
              "      --fill-color: #D2E3FC;\n",
              "      --hover-bg-color: #434B5C;\n",
              "      --hover-fill-color: #FFFFFF;\n",
              "      --disabled-bg-color: #3B4455;\n",
              "      --disabled-fill-color: #666;\n",
              "  }\n",
              "\n",
              "  .colab-df-quickchart {\n",
              "    background-color: var(--bg-color);\n",
              "    border: none;\n",
              "    border-radius: 50%;\n",
              "    cursor: pointer;\n",
              "    display: none;\n",
              "    fill: var(--fill-color);\n",
              "    height: 32px;\n",
              "    padding: 0;\n",
              "    width: 32px;\n",
              "  }\n",
              "\n",
              "  .colab-df-quickchart:hover {\n",
              "    background-color: var(--hover-bg-color);\n",
              "    box-shadow: 0 1px 2px rgba(60, 64, 67, 0.3), 0 1px 3px 1px rgba(60, 64, 67, 0.15);\n",
              "    fill: var(--button-hover-fill-color);\n",
              "  }\n",
              "\n",
              "  .colab-df-quickchart-complete:disabled,\n",
              "  .colab-df-quickchart-complete:disabled:hover {\n",
              "    background-color: var(--disabled-bg-color);\n",
              "    fill: var(--disabled-fill-color);\n",
              "    box-shadow: none;\n",
              "  }\n",
              "\n",
              "  .colab-df-spinner {\n",
              "    border: 2px solid var(--fill-color);\n",
              "    border-color: transparent;\n",
              "    border-bottom-color: var(--fill-color);\n",
              "    animation:\n",
              "      spin 1s steps(1) infinite;\n",
              "  }\n",
              "\n",
              "  @keyframes spin {\n",
              "    0% {\n",
              "      border-color: transparent;\n",
              "      border-bottom-color: var(--fill-color);\n",
              "      border-left-color: var(--fill-color);\n",
              "    }\n",
              "    20% {\n",
              "      border-color: transparent;\n",
              "      border-left-color: var(--fill-color);\n",
              "      border-top-color: var(--fill-color);\n",
              "    }\n",
              "    30% {\n",
              "      border-color: transparent;\n",
              "      border-left-color: var(--fill-color);\n",
              "      border-top-color: var(--fill-color);\n",
              "      border-right-color: var(--fill-color);\n",
              "    }\n",
              "    40% {\n",
              "      border-color: transparent;\n",
              "      border-right-color: var(--fill-color);\n",
              "      border-top-color: var(--fill-color);\n",
              "    }\n",
              "    60% {\n",
              "      border-color: transparent;\n",
              "      border-right-color: var(--fill-color);\n",
              "    }\n",
              "    80% {\n",
              "      border-color: transparent;\n",
              "      border-right-color: var(--fill-color);\n",
              "      border-bottom-color: var(--fill-color);\n",
              "    }\n",
              "    90% {\n",
              "      border-color: transparent;\n",
              "      border-bottom-color: var(--fill-color);\n",
              "    }\n",
              "  }\n",
              "</style>\n",
              "\n",
              "  <script>\n",
              "    async function quickchart(key) {\n",
              "      const quickchartButtonEl =\n",
              "        document.querySelector('#' + key + ' button');\n",
              "      quickchartButtonEl.disabled = true;  // To prevent multiple clicks.\n",
              "      quickchartButtonEl.classList.add('colab-df-spinner');\n",
              "      try {\n",
              "        const charts = await google.colab.kernel.invokeFunction(\n",
              "            'suggestCharts', [key], {});\n",
              "      } catch (error) {\n",
              "        console.error('Error during call to suggestCharts:', error);\n",
              "      }\n",
              "      quickchartButtonEl.classList.remove('colab-df-spinner');\n",
              "      quickchartButtonEl.classList.add('colab-df-quickchart-complete');\n",
              "    }\n",
              "    (() => {\n",
              "      let quickchartButtonEl =\n",
              "        document.querySelector('#df-65d66f1c-52cc-4b10-acfd-946df35fe36e button');\n",
              "      quickchartButtonEl.style.display =\n",
              "        google.colab.kernel.accessAllowed ? 'block' : 'none';\n",
              "    })();\n",
              "  </script>\n",
              "</div>\n",
              "\n",
              "  <div id=\"id_e8172d64-e575-4c6e-9d5e-611f4fe4285b\">\n",
              "    <style>\n",
              "      .colab-df-generate {\n",
              "        background-color: #E8F0FE;\n",
              "        border: none;\n",
              "        border-radius: 50%;\n",
              "        cursor: pointer;\n",
              "        display: none;\n",
              "        fill: #1967D2;\n",
              "        height: 32px;\n",
              "        padding: 0 0 0 0;\n",
              "        width: 32px;\n",
              "      }\n",
              "\n",
              "      .colab-df-generate:hover {\n",
              "        background-color: #E2EBFA;\n",
              "        box-shadow: 0px 1px 2px rgba(60, 64, 67, 0.3), 0px 1px 3px 1px rgba(60, 64, 67, 0.15);\n",
              "        fill: #174EA6;\n",
              "      }\n",
              "\n",
              "      [theme=dark] .colab-df-generate {\n",
              "        background-color: #3B4455;\n",
              "        fill: #D2E3FC;\n",
              "      }\n",
              "\n",
              "      [theme=dark] .colab-df-generate:hover {\n",
              "        background-color: #434B5C;\n",
              "        box-shadow: 0px 1px 3px 1px rgba(0, 0, 0, 0.15);\n",
              "        filter: drop-shadow(0px 1px 2px rgba(0, 0, 0, 0.3));\n",
              "        fill: #FFFFFF;\n",
              "      }\n",
              "    </style>\n",
              "    <button class=\"colab-df-generate\" onclick=\"generateWithVariable('base')\"\n",
              "            title=\"Generate code using this dataframe.\"\n",
              "            style=\"display:none;\">\n",
              "\n",
              "  <svg xmlns=\"http://www.w3.org/2000/svg\" height=\"24px\"viewBox=\"0 0 24 24\"\n",
              "       width=\"24px\">\n",
              "    <path d=\"M7,19H8.4L18.45,9,17,7.55,7,17.6ZM5,21V16.75L18.45,3.32a2,2,0,0,1,2.83,0l1.4,1.43a1.91,1.91,0,0,1,.58,1.4,1.91,1.91,0,0,1-.58,1.4L9.25,21ZM18.45,9,17,7.55Zm-12,3A5.31,5.31,0,0,0,4.9,8.1,5.31,5.31,0,0,0,1,6.5,5.31,5.31,0,0,0,4.9,4.9,5.31,5.31,0,0,0,6.5,1,5.31,5.31,0,0,0,8.1,4.9,5.31,5.31,0,0,0,12,6.5,5.46,5.46,0,0,0,6.5,12Z\"/>\n",
              "  </svg>\n",
              "    </button>\n",
              "    <script>\n",
              "      (() => {\n",
              "      const buttonEl =\n",
              "        document.querySelector('#id_e8172d64-e575-4c6e-9d5e-611f4fe4285b button.colab-df-generate');\n",
              "      buttonEl.style.display =\n",
              "        google.colab.kernel.accessAllowed ? 'block' : 'none';\n",
              "\n",
              "      buttonEl.onclick = () => {\n",
              "        google.colab.notebook.generateWithVariable('base');\n",
              "      }\n",
              "      })();\n",
              "    </script>\n",
              "  </div>\n",
              "\n",
              "    </div>\n",
              "  </div>\n"
            ],
            "application/vnd.google.colaboratory.intrinsic+json": {
              "type": "dataframe",
              "variable_name": "base"
            }
          },
          "metadata": {},
          "execution_count": 3
        }
      ],
      "source": [
        "base"
      ]
    },
    {
      "cell_type": "code",
      "source": [
        "plt.hist(base['Time'])"
      ],
      "metadata": {
        "colab": {
          "base_uri": "https://localhost:8080/",
          "height": 517
        },
        "id": "tT_FQ2-HkhGz",
        "outputId": "0df3dbff-a19b-42a5-e776-6603f5d67e99"
      },
      "id": "tT_FQ2-HkhGz",
      "execution_count": null,
      "outputs": [
        {
          "output_type": "execute_result",
          "data": {
            "text/plain": [
              "(array([ 1194.,   142., 58694., 83832., 84565., 80620., 82318., 79763.,\n",
              "        53443., 14812.]),\n",
              " array([  10. ,  152.9,  295.8,  438.7,  581.6,  724.5,  867.4, 1010.3,\n",
              "        1153.2, 1296.1, 1439. ]),\n",
              " <BarContainer object of 10 artists>)"
            ]
          },
          "metadata": {},
          "execution_count": 6
        },
        {
          "output_type": "display_data",
          "data": {
            "text/plain": [
              "<Figure size 640x480 with 1 Axes>"
            ],
            "image/png": "[encoded data removed]"
          },
          "metadata": {}
        }
      ]
    },
    {
      "cell_type": "code",
      "source": [
        "plt.hist(base['Length'])"
      ],
      "metadata": {
        "colab": {
          "base_uri": "https://localhost:8080/",
          "height": 517
        },
        "id": "zfYx4F3plTPS",
        "outputId": "d476f41c-36c1-49a7-d5c2-0bfd7712b815"
      },
      "id": "zfYx4F3plTPS",
      "execution_count": null,
      "outputs": [
        {
          "output_type": "execute_result",
          "data": {
            "text/plain": [
              "(array([6.40320e+04, 2.60387e+05, 1.37178e+05, 4.34770e+04, 2.08460e+04,\n",
              "        1.12910e+04, 1.70100e+03, 2.57000e+02, 1.46000e+02, 6.80000e+01]),\n",
              " array([  0. ,  65.5, 131. , 196.5, 262. , 327.5, 393. , 458.5, 524. ,\n",
              "        589.5, 655. ]),\n",
              " <BarContainer object of 10 artists>)"
            ]
          },
          "metadata": {},
          "execution_count": 7
        },
        {
          "output_type": "display_data",
          "data": {
            "text/plain": [
              "<Figure size 640x480 with 1 Axes>"
            ],
            "image/png": "[encoded data removed]"
          },
          "metadata": {}
        }
      ]
    },
    {
      "cell_type": "code",
      "source": [
        "print(\"Quantidade de registros com Time <= 100:\", len(base[base['Time'] <= 100]))\n",
        "print(\"Quantidade de registros com Time entre 200 e 400:\", len(base[(base['Time'] >= 200) & (base['Time'] <= 400)]))"
      ],
      "metadata": {
        "colab": {
          "base_uri": "https://localhost:8080/"
        },
        "id": "7TzamibnlVBC",
        "outputId": "eed9728f-c567-4fd5-882a-6f9b3a04007e"
      },
      "id": "7TzamibnlVBC",
      "execution_count": null,
      "outputs": [
        {
          "output_type": "stream",
          "name": "stdout",
          "text": [
            "Quantidade de registros com Time <= 100: 1091\n",
            "Quantidade de registros com Time entre 200 e 400: 37208\n"
          ]
        }
      ]
    },
    {
      "cell_type": "code",
      "source": [
        "plt.boxplot(base['Time'])"
      ],
      "metadata": {
        "colab": {
          "base_uri": "https://localhost:8080/",
          "height": 569
        },
        "id": "BI_c--ialZ3C",
        "outputId": "a02d688e-9aa8-4865-9848-be04f17f1900"
      },
      "id": "BI_c--ialZ3C",
      "execution_count": null,
      "outputs": [
        {
          "output_type": "execute_result",
          "data": {
            "text/plain": [
              "{'whiskers': [<matplotlib.lines.Line2D at 0x7d37aca3f340>,\n",
              "  <matplotlib.lines.Line2D at 0x7d37aca3f5e0>],\n",
              " 'caps': [<matplotlib.lines.Line2D at 0x7d37aca3f880>,\n",
              "  <matplotlib.lines.Line2D at 0x7d37aca3fb20>],\n",
              " 'boxes': [<matplotlib.lines.Line2D at 0x7d37aca3f0a0>],\n",
              " 'medians': [<matplotlib.lines.Line2D at 0x7d37aca3fdc0>],\n",
              " 'fliers': [<matplotlib.lines.Line2D at 0x7d37aca780a0>],\n",
              " 'means': []}"
            ]
          },
          "metadata": {},
          "execution_count": 10
        },
        {
          "output_type": "display_data",
          "data": {
            "text/plain": [
              "<Figure size 640x480 with 1 Axes>"
            ],
            "image/png": "[encoded data removed]"
          },
          "metadata": {}
        }
      ]
    },
    {
      "cell_type": "code",
      "source": [
        "plt.boxplot(base['Length'])"
      ],
      "metadata": {
        "colab": {
          "base_uri": "https://localhost:8080/",
          "height": 569
        },
        "id": "-wdjzORrn8UK",
        "outputId": "eb0ebbe5-0ff4-4eba-e9ef-a61bf58c014e"
      },
      "id": "-wdjzORrn8UK",
      "execution_count": null,
      "outputs": [
        {
          "output_type": "execute_result",
          "data": {
            "text/plain": [
              "{'whiskers': [<matplotlib.lines.Line2D at 0x7d37ac8e36a0>,\n",
              "  <matplotlib.lines.Line2D at 0x7d37ac8e2170>],\n",
              " 'caps': [<matplotlib.lines.Line2D at 0x7d37ac8e3ac0>,\n",
              "  <matplotlib.lines.Line2D at 0x7d37ac8e3d60>],\n",
              " 'boxes': [<matplotlib.lines.Line2D at 0x7d37ac8e3400>],\n",
              " 'medians': [<matplotlib.lines.Line2D at 0x7d37ac71c040>],\n",
              " 'fliers': [<matplotlib.lines.Line2D at 0x7d37ac71c2e0>],\n",
              " 'means': []}"
            ]
          },
          "metadata": {},
          "execution_count": 12
        },
        {
          "output_type": "display_data",
          "data": {
            "text/plain": [
              "<Figure size 640x480 with 1 Axes>"
            ],
            "image/png": "[encoded data removed]"
          },
          "metadata": {}
        }
      ]
    },
    {
      "cell_type": "code",
      "source": [
        "desvio_padrao_time = base['Time'].std()\n",
        "desvio_padrao_time"
      ],
      "metadata": {
        "colab": {
          "base_uri": "https://localhost:8080/"
        },
        "id": "j1L1jt7FsNSS",
        "outputId": "342f408d-d69c-4070-c1ad-ce851129306f"
      },
      "id": "j1L1jt7FsNSS",
      "execution_count": null,
      "outputs": [
        {
          "output_type": "execute_result",
          "data": {
            "text/plain": [
              "278.04591081679"
            ]
          },
          "metadata": {},
          "execution_count": 14
        }
      ]
    },
    {
      "cell_type": "code",
      "source": [
        "desvio_padrao_length = base['Length'].std()\n",
        "desvio_padrao_length"
      ],
      "metadata": {
        "id": "I-bm-3QhsT9r",
        "outputId": "c1d52a91-1bb7-4b13-d936-dbb5bfeb1a94",
        "colab": {
          "base_uri": "https://localhost:8080/"
        }
      },
      "id": "I-bm-3QhsT9r",
      "execution_count": null,
      "outputs": [
        {
          "output_type": "execute_result",
          "data": {
            "text/plain": [
              "70.11701559746602"
            ]
          },
          "metadata": {},
          "execution_count": 15
        }
      ]
    },
    {
      "cell_type": "code",
      "source": [
        "# Calcula o desvio padrão de Time e Length\n",
        "desvio_padrao_time = base['Time'].std()\n",
        "desvio_padrao_length = base['Length'].std()\n",
        "\n",
        "# Calcula a média de Time e Length\n",
        "media_time = base['Time'].mean()\n",
        "media_length = base['Length'].mean()\n",
        "\n",
        "# Calcula o coeficiente de variação de Time e Length\n",
        "coeficiente_variacao_time = desvio_padrao_time / media_time\n",
        "coeficiente_variacao_length = desvio_padrao_length / media_length\n",
        "\n",
        "# Define se provavelmente existem outliers com base no coeficiente de variação\n",
        "limite_inferior = 0.10  # Valor mínimo do coeficiente de variação para considerar outliers\n",
        "limite_superior = 0.25  # Valor máximo do coeficiente de variação para considerar outliers\n",
        "\n",
        "# Verifica se o coeficiente de variação ultrapassa os limites para Time\n",
        "if coeficiente_variacao_time < limite_inferior:\n",
        "    print(\"Para a variável Time, o coeficiente de variação é baixo (\", round(coeficiente_variacao_time*100, 2), \"%), indicando homogeneidade nos dados.\")\n",
        "elif coeficiente_variacao_time > limite_superior:\n",
        "    print(\"Para a variável Time, o coeficiente de variação é alto (\", round(coeficiente_variacao_time*100, 2), \"%), indicando possíveis outliers.\")\n",
        "else:\n",
        "    print(\"Para a variável Time, o coeficiente de variação está dentro do intervalo considerado normal (\", round(coeficiente_variacao_time*100, 2), \"%).\")\n",
        "\n",
        "# Verifica se o coeficiente de variação ultrapassa os limites para Length\n",
        "if coeficiente_variacao_length < limite_inferior:\n",
        "    print(\"Para a variável Length, o coeficiente de variação é baixo (\", round(coeficiente_variacao_length*100, 2), \"%), indicando homogeneidade nos dados.\")\n",
        "elif coeficiente_variacao_length > limite_superior:\n",
        "    print(\"Para a variável Length, o coeficiente de variação é alto (\", round(coeficiente_variacao_length*100, 2), \"%), indicando possíveis outliers.\")\n",
        "else:\n",
        "    print(\"Para a variável Length, o coeficiente de variação está dentro do intervalo considerado normal (\", round(coeficiente_variacao_length*100, 2), \"%).\")\n"
      ],
      "metadata": {
        "colab": {
          "base_uri": "https://localhost:8080/"
        },
        "id": "ibNJcL-5n_wM",
        "outputId": "504c8f6c-44ec-4a69-b216-f177567ca6c4"
      },
      "id": "ibNJcL-5n_wM",
      "execution_count": null,
      "outputs": [
        {
          "output_type": "stream",
          "name": "stdout",
          "text": [
            "Para a variável Time, o coeficiente de variação é alto ( 34.64 %), indicando possíveis outliers.\n",
            "Para a variável Length, o coeficiente de variação é alto ( 53.04 %), indicando possíveis outliers.\n"
          ]
        }
      ]
    }
  ],
  "metadata": {
    "kernelspec": {
      "display_name": "Python 3 (ipykernel)",
      "language": "python",
      "name": "python3"
    },
    "language_info": {
      "codemirror_mode": {
        "name": "ipython",
        "version": 3
      },
      "file_extension": ".py",
      "mimetype": "text/x-python",
      "name": "python",
      "nbconvert_exporter": "python",
      "pygments_lexer": "ipython3",
      "version": "3.12.1"
    },
    "colab": {
      "provenance": []
    }
  },
  "nbformat": 4,
  "nbformat_minor": 5
}