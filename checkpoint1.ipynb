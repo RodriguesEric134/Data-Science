{
 "cells": [
  {
   "cell_type": "code",
   "execution_count": 1,
   "metadata": {},
   "outputs": [
    {
     "name": "stdout",
     "output_type": "stream",
     "text": [
      "[13, 26, 39, 52, 65, 78, 91, 104, 117, 130, 143, 156, 169, 182, 195, 208, 221, 234, 247, 260, 273, 286, 299, 312, 325, 338, 351, 364, 377, 390, 403, 416, 429, 442, 455, 468, 481, 494, 507, 520, 533, 546, 559, 572, 585, 598, 611, 624, 637, 650, 663, 676, 689, 702, 715, 728, 741, 754, 767, 780, 793, 806, 819, 832, 845, 858, 871, 884, 897, 910, 923, 936, 949, 962, 975, 988]\n"
     ]
    }
   ],
   "source": [
    "divisiveis_por_13 = []\n",
    "\n",
    "for num in range(1, 1001):\n",
    "    if num % 13 == 0:\n",
    "        divisiveis_por_13.append(num)\n",
    "\n",
    "print(divisiveis_por_13)\n"
   ]
  },
  {
   "cell_type": "code",
   "execution_count": 2,
   "metadata": {},
   "outputs": [
    {
     "name": "stdout",
     "output_type": "stream",
     "text": [
      "Números comuns encontrados com loop for: [1, 3, 11, 22, 34, 43, 89, 92]\n",
      "Tempo de execução com loop for: 0.0\n",
      "Números comuns encontrados com compreensão de lista: [1, 3, 11, 22, 34, 43, 89, 92]\n",
      "Tempo de execução com compreensão de lista: 0.0\n"
     ]
    }
   ],
   "source": [
    "import time\n",
    "\n",
    "# Definindo as duas listas\n",
    "lista_a = [1, 3, 7, 11, 22, 34, 57, 43, 89, 92, 93]\n",
    "lista_b = [1, 2, 3, 4, 5, 11, 22, 23, 34, 56, 89, 92, 43]\n",
    "\n",
    "# Usando um loop for para encontrar os números comuns\n",
    "inicio_for = time.time()\n",
    "\n",
    "comuns_for = []\n",
    "for num in lista_a:\n",
    "    if num in lista_b:\n",
    "        comuns_for.append(num)\n",
    "\n",
    "fim_for = time.time()\n",
    "tempo_for = fim_for - inicio_for\n",
    "\n",
    "print(\"Números comuns encontrados com loop for:\", comuns_for)\n",
    "print(\"Tempo de execução com loop for:\", tempo_for)\n",
    "\n",
    "# Usando compreensão de lista para encontrar os números comuns\n",
    "inicio_comp = time.time()\n",
    "\n",
    "comuns_comp = [num for num in lista_a if num in lista_b]\n",
    "\n",
    "fim_comp = time.time()\n",
    "tempo_comp = fim_comp - inicio_comp\n",
    "\n",
    "print(\"Números comuns encontrados com compreensão de lista:\", comuns_comp)\n",
    "print(\"Tempo de execução com compreensão de lista:\", tempo_comp)\n"
   ]
  },
  {
   "cell_type": "code",
   "execution_count": 3,
   "metadata": {},
   "outputs": [
    {
     "name": "stdout",
     "output_type": "stream",
     "text": [
      "[2, 3, 4, 5, 6, 7, 8, 9, 10, 12, 14, 15, 16, 18, 20, 21, 22, 24, 25, 26, 27, 28, 30, 32, 33, 34, 35, 36, 38, 39, 40, 42, 44, 45, 46, 48, 49, 50, 51, 52, 54, 55, 56, 57, 58, 60, 62, 63, 64, 65, 66, 68, 69, 70, 72, 74, 75, 76, 77, 78, 80, 81, 82, 84, 85, 86, 87, 88, 90, 91, 92, 93, 94, 95, 96, 98, 99, 100, 102, 104, 105, 106, 108, 110, 111, 112, 114, 115, 116, 117, 118, 119, 120, 122, 123, 124, 125, 126, 128, 129, 130, 132, 133, 134, 135, 136, 138, 140, 141, 142, 144, 145, 146, 147, 148, 150, 152, 153, 154, 155, 156, 158, 159, 160, 161, 162, 164, 165, 166, 168, 170, 171, 172, 174, 175, 176, 177, 178, 180, 182, 183, 184, 185, 186, 188, 189, 190, 192, 194, 195, 196, 198, 200, 201, 202, 203, 204, 205, 206, 207, 208, 210, 212, 213, 214, 215, 216, 217, 218, 219, 220, 222, 224, 225, 226, 228, 230, 231, 232, 234, 235, 236, 237, 238, 240, 242, 243, 244, 245, 246, 248, 249, 250, 252, 254, 255, 256, 258, 259, 260, 261, 262, 264, 265, 266, 267, 268, 270, 272, 273, 274, 275, 276, 278, 279, 280, 282, 284, 285, 286, 287, 288, 290, 291, 292, 294, 295, 296, 297, 298, 300, 301, 302, 303, 304, 305, 306, 308, 309, 310, 312, 314, 315, 316, 318, 320, 321, 322, 324, 325, 326, 327, 328, 329, 330, 332, 333, 334, 335, 336, 338, 339, 340, 342, 343, 344, 345, 346, 348, 350, 351, 352, 354, 355, 356, 357, 358, 360, 362, 363, 364, 365, 366, 368, 369, 370, 371, 372, 374, 375, 376, 378, 380, 381, 382, 384, 385, 386, 387, 388, 390, 392, 393, 394, 395, 396, 398, 399, 400, 402, 404, 405, 406, 408, 410, 411, 412, 413, 414, 415, 416, 417, 418, 420, 422, 423, 424, 425, 426, 427, 428, 429, 430, 432, 434, 435, 436, 438, 440, 441, 442, 444, 445, 446, 447, 448, 450, 452, 453, 454, 455, 456, 458, 459, 460, 462, 464, 465, 466, 468, 469, 470, 471, 472, 474, 475, 476, 477, 478, 480, 482, 483, 484, 485, 486, 488, 489, 490, 492, 494, 495, 496, 497, 498, 500, 501, 502, 504, 505, 506, 507, 508, 510, 511, 512, 513, 514, 515, 516, 518, 519, 520, 522, 524, 525, 526, 528, 530, 531, 532, 534, 535, 536, 537, 538, 539, 540, 542, 543, 544, 545, 546, 548, 549, 550, 552, 553, 554, 555, 556, 558, 560, 561, 562, 564, 565, 566, 567, 568, 570, 572, 573, 574, 575, 576, 578, 579, 580, 581, 582, 584, 585, 586, 588, 590, 591, 592, 594, 595, 596, 597, 598, 600, 602, 603, 604, 605, 606, 608, 609, 610, 612, 614, 615, 616, 618, 620, 621, 622, 623, 624, 625, 626, 627, 628, 630, 632, 633, 634, 635, 636, 637, 638, 639, 640, 642, 644, 645, 646, 648, 650, 651, 652, 654, 655, 656, 657, 658, 660, 662, 663, 664, 665, 666, 668, 669, 670, 672, 674, 675, 676, 678, 679, 680, 681, 682, 684, 685, 686, 687, 688, 690, 692, 693, 694, 695, 696, 698, 699, 700, 702, 704, 705, 706, 707, 708, 710, 711, 712, 714, 715, 716, 717, 718, 720, 721, 722, 723, 724, 725, 726, 728, 729, 730, 732, 734, 735, 736, 738, 740, 741, 742, 744, 745, 746, 747, 748, 749, 750, 752, 753, 754, 755, 756, 758, 759, 760, 762, 763, 764, 765, 766, 768, 770, 771, 772, 774, 775, 776, 777, 778, 780, 782, 783, 784, 785, 786, 788, 789, 790, 791, 792, 794, 795, 796, 798, 800, 801, 802, 804, 805, 806, 807, 808, 810, 812, 813, 814, 815, 816, 818, 819, 820, 822, 824, 825, 826, 828, 830, 831, 832, 833, 834, 835, 836, 837, 838, 840, 842, 843, 844, 845, 846, 847, 848, 849, 850, 852, 854, 855, 856, 858, 860, 861, 862, 864, 865, 866, 867, 868, 870, 872, 873, 874, 875, 876, 878, 879, 880, 882, 884, 885, 886, 888, 889, 890, 891, 892, 894, 895, 896, 897, 898, 900, 902, 903, 904, 905, 906, 908, 909, 910, 912, 914, 915, 916, 917, 918, 920, 921, 922, 924, 925, 926, 927, 928, 930, 931, 932, 933, 934, 935, 936, 938, 939, 940, 942, 944, 945, 946, 948, 950, 951, 952, 954, 955, 956, 957, 958, 959, 960, 962, 963, 964, 965, 966, 968, 969, 970, 972, 973, 974, 975, 976, 978, 980, 981, 982, 984, 985, 986, 987, 988, 990, 992, 993, 994, 995, 996, 998, 999, 1000]\n"
     ]
    }
   ],
   "source": [
    "divisiveis = [num for num in range(1, 1001) if any(num % i == 0 for i in range(2, 8))]\n",
    "print(divisiveis)"
   ]
  },
  {
   "cell_type": "code",
   "execution_count": 4,
   "metadata": {},
   "outputs": [
    {
     "name": "stdout",
     "output_type": "stream",
     "text": [
      "Quantidade total de números na lista: 10\n",
      "Lista dos números divisíveis por 2 ou 3: [2, 3, 4, 6, 8, 9, 10]\n",
      "Quantidade de números que não seguem o critério: 3\n"
     ]
    }
   ],
   "source": [
    "def calcular_coisas(lista):\n",
    "    # Quantidade total de números na lista\n",
    "    quantidade_total = len(lista)\n",
    "\n",
    "    # Lista dos números da lista divisíveis por 2 ou 3\n",
    "    divisivel_2_3 = [num for num in lista if num % 2 == 0 or num % 3 == 0]\n",
    "\n",
    "    # Quantidade de números que não seguem o critério\n",
    "    quantidade_nao_divisivel = quantidade_total - len(divisivel_2_3)\n",
    "\n",
    "    return quantidade_total, divisivel_2_3, quantidade_nao_divisivel\n",
    "\n",
    "# Exemplo de uso:\n",
    "minha_lista = [1, 2, 3, 4, 5, 6, 7, 8, 9, 10]\n",
    "quantidade_total, divisivel_2_3, quantidade_nao_divisivel = calcular_coisas(minha_lista)\n",
    "\n",
    "print(f\"Quantidade total de números na lista:\", quantidade_total)\n",
    "print(f\"Lista dos números divisíveis por 2 ou 3:\", divisivel_2_3)\n",
    "print(f\"Quantidade de números que não seguem o critério:\", quantidade_nao_divisivel)\n"
   ]
  }
 ],
 "metadata": {
  "kernelspec": {
   "display_name": "Python 3",
   "language": "python",
   "name": "python3"
  },
  "language_info": {
   "codemirror_mode": {
    "name": "ipython",
    "version": 3
   },
   "file_extension": ".py",
   "mimetype": "text/x-python",
   "name": "python",
   "nbconvert_exporter": "python",
   "pygments_lexer": "ipython3",
   "version": "3.11.9"
  }
 },
 "nbformat": 4,
 "nbformat_minor": 2
}
