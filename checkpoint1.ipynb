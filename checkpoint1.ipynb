{
 "cells": [
  {
   "cell_type": "code",
   "execution_count": 1,
   "metadata": {},
   "outputs": [
    {
     "name": "stdout",
     "output_type": "stream",
     "text": [
      "[13, 26, 39, 52, 65, 78, 91, 104, 117, 130, 143, 156, 169, 182, 195, 208, 221, 234, 247, 260, 273, 286, 299, 312, 325, 338, 351, 364, 377, 390, 403, 416, 429, 442, 455, 468, 481, 494, 507, 520, 533, 546, 559, 572, 585, 598, 611, 624, 637, 650, 663, 676, 689, 702, 715, 728, 741, 754, 767, 780, 793, 806, 819, 832, 845, 858, 871, 884, 897, 910, 923, 936, 949, 962, 975, 988]\n"
     ]
    }
   ],
   "source": [
    "divisiveis_por_13 = []\n",
    "\n",
    "for num in range(1, 1001):\n",
    "    if num % 13 == 0:\n",
    "        divisiveis_por_13.append(num)\n",
    "\n",
    "print(divisiveis_por_13)\n"
   ]
  },
  {
   "cell_type": "code",
   "execution_count": 2,
   "metadata": {},
   "outputs": [
    {
     "name": "stdout",
     "output_type": "stream",
     "text": [
      "Números comuns encontrados com loop for: [1, 3, 11, 22, 34, 43, 89, 92]\n",
      "Tempo de execução com loop for: 0.0\n",
      "Números comuns encontrados com compreensão de lista: [1, 3, 11, 22, 34, 43, 89, 92]\n",
      "Tempo de execução com compreensão de lista: 0.0\n"
     ]
    }
   ],
   "source": [
    "import time\n",
    "\n",
    "# Definindo as duas listas\n",
    "lista_a = [1, 3, 7, 11, 22, 34, 57, 43, 89, 92, 93]\n",
    "lista_b = [1, 2, 3, 4, 5, 11, 22, 23, 34, 56, 89, 92, 43]\n",
    "\n",
    "# Usando um loop for para encontrar os números comuns\n",
    "inicio_for = time.time()\n",
    "\n",
    "comuns_for = []\n",
    "for num in lista_a:\n",
    "    if num in lista_b:\n",
    "        comuns_for.append(num)\n",
    "\n",
    "fim_for = time.time()\n",
    "tempo_for = fim_for - inicio_for\n",
    "\n",
    "print(\"Números comuns encontrados com loop for:\", comuns_for)\n",
    "print(\"Tempo de execução com loop for:\", tempo_for)\n",
    "\n",
    "# Usando compreensão de lista para encontrar os números comuns\n",
    "inicio_comp = time.time()\n",
    "\n",
    "comuns_comp = [num for num in lista_a if num in lista_b]\n",
    "\n",
    "fim_comp = time.time()\n",
    "tempo_comp = fim_comp - inicio_comp\n",
    "\n",
    "print(\"Números comuns encontrados com compreensão de lista:\", comuns_comp)\n",
    "print(\"Tempo de execução com compreensão de lista:\", tempo_comp)\n"
   ]
  }
 ],
 "metadata": {
  "kernelspec": {
   "display_name": "Python 3",
   "language": "python",
   "name": "python3"
  },
  "language_info": {
   "codemirror_mode": {
    "name": "ipython",
    "version": 3
   },
   "file_extension": ".py",
   "mimetype": "text/x-python",
   "name": "python",
   "nbconvert_exporter": "python",
   "pygments_lexer": "ipython3",
   "version": "3.11.9"
  }
 },
 "nbformat": 4,
 "nbformat_minor": 2
}
