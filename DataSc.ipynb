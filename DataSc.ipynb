{
  "nbformat": 4,
  "nbformat_minor": 0,
  "metadata": {
    "colab": {
      "provenance": []
    },
    "kernelspec": {
      "name": "python3",
      "display_name": "Python 3"
    },
    "language_info": {
      "name": "python"
    }
  },
  "cells": [
    {
      "cell_type": "code",
      "execution_count": null,
      "metadata": {
        "id": "3aavLQxLOi-q"
      },
      "outputs": [],
      "source": [
        "import numpy as np\n",
        "from sklearn.linear_model import LinearRegression\n",
        "import pandas as pd\n",
        "import matplotlib.pyplot as plt"
      ]
    },
    {
      "cell_type": "code",
      "source": [
        "df = pd.DataFrame([[2,3,4,6,4,40,5],[5,7,9,13,9,81,11]]).T\n",
        "df.columns = ['Km rodados','Valor cobrado']"
      ],
      "metadata": {
        "id": "i8mm1bTOO1rH"
      },
      "execution_count": null,
      "outputs": []
    },
    {
      "cell_type": "code",
      "source": [
        "display(df['Km rodados'].mean())\n",
        "display(df['Valor cobrado'].mean())"
      ],
      "metadata": {
        "colab": {
          "base_uri": "https://localhost:8080/",
          "height": 52
        },
        "id": "OqfkZbpOPXRX",
        "outputId": "e8ba0173-30e1-4f0b-ccb1-f15ab58a13fd"
      },
      "execution_count": null,
      "outputs": [
        {
          "output_type": "display_data",
          "data": {
            "text/plain": [
              "9.142857142857142"
            ]
          },
          "metadata": {}
        },
        {
          "output_type": "display_data",
          "data": {
            "text/plain": [
              "19.285714285714285"
            ]
          },
          "metadata": {}
        }
      ]
    },
    {
      "cell_type": "code",
      "source": [
        "display(df['Km rodados'].iloc[0:5])"
      ],
      "metadata": {
        "colab": {
          "base_uri": "https://localhost:8080/",
          "height": 121
        },
        "id": "RvwVr13QP0T3",
        "outputId": "26c24718-ebb5-487c-c037-63a96f2eb36e"
      },
      "execution_count": null,
      "outputs": [
        {
          "output_type": "display_data",
          "data": {
            "text/plain": [
              "0    2\n",
              "1    3\n",
              "2    4\n",
              "3    6\n",
              "4    4\n",
              "Name: Km rodados, dtype: int64"
            ]
          },
          "metadata": {}
        }
      ]
    },
    {
      "cell_type": "code",
      "source": [
        "X = df['Valor cobrado'].iloc[0:5]\n",
        "display(X)"
      ],
      "metadata": {
        "colab": {
          "base_uri": "https://localhost:8080/",
          "height": 121
        },
        "id": "5S81xey6Ql2F",
        "outputId": "486e84ad-b733-4315-8114-299ecf9c1c4d"
      },
      "execution_count": null,
      "outputs": [
        {
          "output_type": "display_data",
          "data": {
            "text/plain": [
              "0     5\n",
              "1     7\n",
              "2     9\n",
              "3    13\n",
              "4     9\n",
              "Name: Valor cobrado, dtype: int64"
            ]
          },
          "metadata": {}
        }
      ]
    }
  ]
}